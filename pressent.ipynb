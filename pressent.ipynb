{
 "cells": [
  {
   "cell_type": "markdown",
   "metadata": {
    "deletable": true,
    "editable": true
   },
   "source": [
    "<img src=\"https://cdn-images-1.medium.com/max/800/1*6UcQdP-1yFoUotb-QnDWsg.gif\">"
   ]
  },
  {
   "cell_type": "markdown",
   "metadata": {
    "deletable": true,
    "editable": true
   },
   "source": [
    "<img src=\"https://sites.google.com/site/learnphotographybasics/_/rsrc/1239834796658/Home/color-bit-depth-channels-info-pallet/3%20channels%20over%20lay.png\">"
   ]
  },
  {
   "cell_type": "markdown",
   "metadata": {
    "deletable": true,
    "editable": true
   },
   "source": [
    "<img src=\"https://thumbs.dreamstime.com/z/rgb-bijkomend-kleurenmodel-53432489.jpg\">"
   ]
  },
  {
   "cell_type": "markdown",
   "metadata": {
    "deletable": true,
    "editable": true
   },
   "source": [
    "<img src=\"https://s3-ap-south-1.amazonaws.com/av-blog-media/wp-content/uploads/2017/06/28011851/conv.gif\">"
   ]
  },
  {
   "cell_type": "code",
   "execution_count": 1,
   "metadata": {
    "collapsed": true,
    "deletable": true,
    "editable": true
   },
   "outputs": [],
   "source": [
    "from skimage.exposure import rescale_intensity\n",
    "import numpy as np\n",
    "import argparse\n",
    "import cv2\n",
    "import math\n",
    "from matplotlib import pyplot as plt"
   ]
  },
  {
   "cell_type": "code",
   "execution_count": 2,
   "metadata": {
    "collapsed": true,
    "deletable": true,
    "editable": true
   },
   "outputs": [],
   "source": [
    "def convolve(image, kernel,ker_mul,iterations):\n",
    "    \n",
    "    if iterations==0:\n",
    "        return image\n",
    "    else:\n",
    "        (iH, iW) = image.shape[:2]\n",
    "        (kH, kW) = kernel.shape[:2]\n",
    "\n",
    "        pad = (kW - 1) / 2\n",
    "        image = cv2.copyMakeBorder(image, pad, pad, pad, pad,cv2.BORDER_REPLICATE)\n",
    "        output = np.zeros((iH, iW), dtype=\"float32\")\n",
    "\n",
    "        for y in range(iH):\n",
    "            for x in range(iW):\n",
    "                roi = image[y :y + kH, x:x + kW]\n",
    "                k = (roi * kernel).sum()\n",
    "                k=k/ker_mul\n",
    "                output[y,x] = k\n",
    "\n",
    "        output = rescale_intensity(output, in_range=(0, 255))\n",
    "        output = (output * 255).astype(\"uint8\")\n",
    "        return convolve(output,kernel,ker_mul,iterations-1)"
   ]
  },
  {
   "cell_type": "code",
   "execution_count": 75,
   "metadata": {
    "collapsed": true,
    "deletable": true,
    "editable": true
   },
   "outputs": [],
   "source": [
    "def find_shape(image, kernel):\n",
    "    (iH, iW) = image.shape[:2]\n",
    "    (kH, kW) = kernel.shape[:2]\n",
    "\n",
    "    pad = (kW - 1) / 2\n",
    "    image = cv2.copyMakeBorder(image, pad, pad, pad, pad,cv2.BORDER_REPLICATE)\n",
    "    output = np.zeros((iH, iW), dtype=\"float32\")\n",
    "    prev_sum=0\n",
    "    for y in range(iH):\n",
    "        for x in range(iW):\n",
    "            roi = image[y :y + kH, x:x + kW]\n",
    "            k = (roi * kernel).sum()\n",
    "            if k> prev_sum:\n",
    "                prev_sum=k\n",
    "                y1,yw,x1,xw=y,y + kH,x,x + kW\n",
    "    \n",
    "    return (cv2.rectangle(image.copy(), (x1, y1), (xw, yw), (255,0,0), 2))\n",
    "    "
   ]
  },
  {
   "cell_type": "code",
   "execution_count": 3,
   "metadata": {
    "collapsed": false,
    "deletable": true,
    "editable": true
   },
   "outputs": [
    {
     "name": "stdout",
     "output_type": "stream",
     "text": [
      "Using matplotlib backend: TkAgg\n"
     ]
    }
   ],
   "source": [
    "%matplotlib\n",
    "def plot(*images):\n",
    "    ncols=2\n",
    "    nrows=int(math.ceil(len(images)/2.0))\n",
    "    fig, ax = plt.subplots(nrows, ncols,gridspec_kw = {'wspace':0, 'hspace':0},facecolor='.5')\n",
    "    plt.axis('off')\n",
    "    for i in range(0,len(images)):\n",
    "        plt.subplot(nrows,ncols,i+1),plt.imshow(images[i],cmap='Greys')\n",
    "        plt.axis('off')\n",
    "    plt.show()"
   ]
  },
  {
   "cell_type": "code",
   "execution_count": 28,
   "metadata": {
    "collapsed": false,
    "deletable": true,
    "editable": true
   },
   "outputs": [],
   "source": [
    "def read_image(path,invert=0):\n",
    "    image= cv2.imread(path,0)\n",
    "    if invert==1:\n",
    "        ret,image = cv2.threshold(image,127,255,cv2.THRESH_BINARY_INV)\n",
    "    plot(image)\n",
    "    return image"
   ]
  },
  {
   "cell_type": "code",
   "execution_count": 72,
   "metadata": {
    "collapsed": false,
    "deletable": true,
    "editable": true
   },
   "outputs": [],
   "source": [
    "sobelX = np.array((\n",
    "    [-1, 0, 1],\n",
    "    [-2, 0, 2],\n",
    "    [-1, 0, 1]), dtype=\"int\")\n",
    "sharpen = np.array((\n",
    "    [0, -1, 0],\n",
    "    [-1, 5, -1],\n",
    "    [0, -1, 0]), dtype=\"int\")\n",
    "sobelY = np.array((\n",
    "    [-1, -2, -1],\n",
    "    [0, 0, 0],\n",
    "    [1, 2, 1]), dtype=\"int\")\n",
    "extendY=np.array((\n",
    "    [0, 1, 0],\n",
    "    [0, 1, 0],\n",
    "    [0, 1, 0]), dtype=\"int\")\n",
    "extendX=np.transpose(extendY)\n",
    "axisel=np.array((\n",
    "    [1, 0, 0],\n",
    "    [0, 1, 0],\n",
    "    [0, 0, 1]), dtype=\"int\")\n",
    "erode=np.array((\n",
    "    [1, 1, 1],\n",
    "    [1, 1, 1],\n",
    "    [1, 1, 1]), dtype=\"int\")\n",
    "mouse_k=np.array((\n",
    "    [0,0,0,1,1,1,0],\n",
    "    [0,0,1,1,0,0,0],\n",
    "    [0,1,1,0,0,0,0],\n",
    "    [0,1,1,0,0,0,0],\n",
    "    [0,1,1,0,0,0,0],\n",
    "    [0,1,1,0,0,0,0],\n",
    "    [0,0,1,0,0,0,0]), dtype=\"int\")"
   ]
  },
  {
   "cell_type": "code",
   "execution_count": 83,
   "metadata": {
    "collapsed": false,
    "deletable": true,
    "editable": true
   },
   "outputs": [],
   "source": [
    "plus=read_image(\"./Plus_sign.jpg\",1)"
   ]
  },
  {
   "cell_type": "code",
   "execution_count": 95,
   "metadata": {
    "collapsed": false,
    "deletable": true,
    "editable": true
   },
   "outputs": [],
   "source": [
    "out1=convolve(plus,sobelY,1,5)"
   ]
  },
  {
   "cell_type": "code",
   "execution_count": 96,
   "metadata": {
    "collapsed": true,
    "deletable": true,
    "editable": true
   },
   "outputs": [],
   "source": [
    "plot(plus,out1)"
   ]
  },
  {
   "cell_type": "code",
   "execution_count": null,
   "metadata": {
    "collapsed": false,
    "deletable": true,
    "editable": true
   },
   "outputs": [],
   "source": [
    "cv2.imshow('image',out)\n",
    "cv2.waitKey(0)\n",
    "cv2.destroyAllWindows()"
   ]
  },
  {
   "cell_type": "code",
   "execution_count": 63,
   "metadata": {
    "collapsed": false,
    "deletable": true,
    "editable": true,
    "scrolled": true
   },
   "outputs": [],
   "source": [
    "plot(plus,out)"
   ]
  },
  {
   "cell_type": "code",
   "execution_count": 92,
   "metadata": {
    "collapsed": false,
    "deletable": true,
    "editable": true
   },
   "outputs": [],
   "source": [
    "mouse=read_image(\"./mouse.jpg\",1)"
   ]
  },
  {
   "cell_type": "code",
   "execution_count": 64,
   "metadata": {
    "collapsed": false,
    "deletable": true,
    "editable": true
   },
   "outputs": [],
   "source": [
    "out=convolve(mouse,mouse_k,1,1)"
   ]
  },
  {
   "cell_type": "code",
   "execution_count": 67,
   "metadata": {
    "collapsed": false,
    "deletable": true,
    "editable": true
   },
   "outputs": [],
   "source": [
    "plot(mouse,out)"
   ]
  },
  {
   "cell_type": "code",
   "execution_count": 94,
   "metadata": {
    "collapsed": false,
    "deletable": true,
    "editable": true
   },
   "outputs": [],
   "source": [
    "shape=find_shape(mouse,mouse_k)\n",
    "plot(mouse)"
   ]
  }
 ],
 "metadata": {
  "kernelspec": {
   "display_name": "Python 2",
   "language": "python",
   "name": "python2"
  },
  "language_info": {
   "codemirror_mode": {
    "name": "ipython",
    "version": 2
   },
   "file_extension": ".py",
   "mimetype": "text/x-python",
   "name": "python",
   "nbconvert_exporter": "python",
   "pygments_lexer": "ipython2",
   "version": "2.7.13"
  }
 },
 "nbformat": 4,
 "nbformat_minor": 2
}
