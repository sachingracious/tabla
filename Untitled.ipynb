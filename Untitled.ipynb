{
 "cells": [
  {
   "cell_type": "code",
   "execution_count": 1,
   "metadata": {
    "collapsed": true,
    "deletable": true,
    "editable": true
   },
   "outputs": [],
   "source": [
    "import cv2\n",
    "from matplotlib import pyplot as plt\n",
    "import numpy as np\n",
    "import math"
   ]
  },
  {
   "cell_type": "code",
   "execution_count": 2,
   "metadata": {
    "collapsed": false,
    "deletable": true,
    "editable": true
   },
   "outputs": [
    {
     "name": "stdout",
     "output_type": "stream",
     "text": [
      "Using matplotlib backend: TkAgg\n"
     ]
    }
   ],
   "source": [
    "%matplotlib\n",
    "def plot(string='',*images):\n",
    "    ncols=2\n",
    "    nrows=int(math.ceil(len(images)/2.0))\n",
    "    fig, ax = plt.subplots(nrows, ncols,gridspec_kw = {'wspace':0, 'hspace':0},facecolor='.5')\n",
    "    plt.axis('off')\n",
    "    for i in range(0,len(images)):\n",
    "        plt.subplot(nrows,ncols,i+1),plt.imshow(images[i],cmap='binary_r')\n",
    "        plt.text(0,0,string+'\\n')\n",
    "        plt.axis('off')\n",
    "    plt.show()"
   ]
  },
  {
   "cell_type": "code",
   "execution_count": 3,
   "metadata": {
    "collapsed": false,
    "deletable": true,
    "editable": true
   },
   "outputs": [],
   "source": [
    "crop_array=[]\n",
    "open_mask=cv2.imread(\"test.jpg\",0)\n",
    "plot(\"s\",open_mask)"
   ]
  },
  {
   "cell_type": "code",
   "execution_count": 4,
   "metadata": {
    "collapsed": false,
    "deletable": true,
    "editable": true
   },
   "outputs": [
    {
     "name": "stdout",
     "output_type": "stream",
     "text": [
      "num of contours: 544\n"
     ]
    }
   ],
   "source": [
    "im, contours, hierarchy = cv2.findContours(open_mask, cv2.RETR_EXTERNAL, cv2.CHAIN_APPROX_SIMPLE)\n",
    "print(\"num of contours: {}\".format(len(contours)))\n",
    "\n",
    "\n",
    "mult = 1.2\n",
    "img_box = cv2.cvtColor(open_mask.copy(), cv2.COLOR_GRAY2BGR)\n",
    "for cnt in contours:\n",
    "    rect = cv2.minAreaRect(cnt)\n",
    "    box = cv2.boxPoints(rect)\n",
    "    box = np.int0(box)\n",
    "  \n",
    "\n",
    "    W = rect[1][0]\n",
    "    H = rect[1][1]\n",
    "    if W*H>=200:\n",
    "        Xs = [i[0] for i in box]\n",
    "        Ys = [i[1] for i in box]\n",
    "        x1 = min(Xs)\n",
    "        x2 = max(Xs)\n",
    "        y1 = min(Ys)\n",
    "        y2 = max(Ys)\n",
    "        temp=img_box.copy()\n",
    "        cv2.drawContours(temp, [box], 0, (0,255,0), 2)\n",
    "        rotated = False\n",
    "        angle = rect[2]\n",
    "\n",
    "        if W<H:\n",
    "            angle+=90\n",
    "            rotated = True\n",
    "\n",
    "        center = (int((x1+x2)/2), int((y1+y2)/2))\n",
    "        size = (int(mult*(x2-x1)),int(mult*(y2-y1)))\n",
    "    \n",
    "        M = cv2.getRotationMatrix2D((size[0]/2, size[1]/2), angle, 1.0)\n",
    "\n",
    "        cropped = cv2.getRectSubPix(img_box, size, center)    \n",
    "        cropped = cv2.warpAffine(cropped, M, size)\n",
    "\n",
    "        croppedW = W if not rotated else H \n",
    "        croppedH = H if not rotated else W\n",
    "\n",
    "        croppedRotated = cv2.getRectSubPix(cropped, (int(croppedW*mult), int(croppedH*mult)), (size[0]/2, size[1]/2))\n",
    "        crop_array.append(croppedRotated)\n",
    "        plot(str(rect[2]),temp,croppedRotated)\n"
   ]
  }
 ],
 "metadata": {
  "kernelspec": {
   "display_name": "Python 2",
   "language": "python",
   "name": "python2"
  },
  "language_info": {
   "codemirror_mode": {
    "name": "ipython",
    "version": 2
   },
   "file_extension": ".py",
   "mimetype": "text/x-python",
   "name": "python",
   "nbconvert_exporter": "python",
   "pygments_lexer": "ipython2",
   "version": "2.7.13"
  }
 },
 "nbformat": 4,
 "nbformat_minor": 2
}
